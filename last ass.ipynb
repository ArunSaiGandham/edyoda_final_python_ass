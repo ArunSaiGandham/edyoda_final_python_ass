{
 "cells": [
  {
   "cell_type": "code",
   "execution_count": 1,
   "id": "32dddfcf",
   "metadata": {},
   "outputs": [
    {
     "name": "stdout",
     "output_type": "stream",
     "text": [
      "Enter the value10\n",
      "Enter the power value2\n",
      "100\n"
     ]
    }
   ],
   "source": [
    "class pow:\n",
    "    def __init__(self):\n",
    "        self.val = int(input(\"Enter the value\"))\n",
    "        self.mul = int(input(\"Enter the power value\"))\n",
    "       \n",
    "    \n",
    "    def power(self):\n",
    "         return self.val ** self.mul\n",
    "check = pow()\n",
    "\n",
    "print(check.power())"
   ]
  },
  {
   "cell_type": "code",
   "execution_count": null,
   "id": "83f8b71e",
   "metadata": {},
   "outputs": [],
   "source": []
  },
  {
   "cell_type": "code",
   "execution_count": null,
   "id": "93ce032d",
   "metadata": {},
   "outputs": [],
   "source": []
  }
 ],
 "metadata": {
  "kernelspec": {
   "display_name": "Python 3",
   "language": "python",
   "name": "python3"
  },
  "language_info": {
   "codemirror_mode": {
    "name": "ipython",
    "version": 3
   },
   "file_extension": ".py",
   "mimetype": "text/x-python",
   "name": "python",
   "nbconvert_exporter": "python",
   "pygments_lexer": "ipython3",
   "version": "3.8.8"
  }
 },
 "nbformat": 4,
 "nbformat_minor": 5
}
